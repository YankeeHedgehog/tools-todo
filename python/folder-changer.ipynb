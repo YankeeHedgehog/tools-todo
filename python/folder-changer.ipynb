{
 "cells": [
  {
   "cell_type": "code",
   "execution_count": 3,
   "metadata": {},
   "outputs": [],
   "source": [
    "import os\n",
    "\n",
    "def rename_folders_and_files(root_folder):\n",
    "    # ルートフォルダーの直下にあるフォルダーを取得\n",
    "    for folder_name in os.listdir(root_folder):\n",
    "        folder_path = os.path.join(root_folder, folder_name)\n",
    "        \n",
    "        # フォルダーかどうか確認\n",
    "        if os.path.isdir(folder_path):\n",
    "            # フォルダー名のフォーマットを変える（例: 01-1 -> 01-01）\n",
    "            parts = folder_name.split('-')\n",
    "            new_folder_name = f\"{int(parts[0]):02d}-{int(parts[1]):02d}\"\n",
    "            new_folder_path = os.path.join(root_folder, new_folder_name)\n",
    "            \n",
    "            # フォルダー名を変更\n",
    "            os.rename(folder_path, new_folder_path)\n",
    "            \n",
    "            # 新しいフォルダー内のファイル名を変更\n",
    "            for file_name in os.listdir(new_folder_path):\n",
    "                if file_name.startswith(\"02_\"):\n",
    "                    # \"02_\"を取り除いてファイル名を変更\n",
    "                    new_file_name = file_name[3:]\n",
    "                    old_file_path = os.path.join(new_folder_path, file_name)\n",
    "                    new_file_path = os.path.join(new_folder_path, new_file_name)\n",
    "                    \n",
    "                    # ファイル名を変更\n",
    "                    os.rename(old_file_path, new_file_path)\n",
    "\n",
    "# ルートフォルダーのパスを指定\n",
    "root_folder = r'C:\\\\Users\\\\yanke\\\\ProjectsWin\\\\tools-todo\\\\python\\\\example'\n",
    "rename_folders_and_files(root_folder)\n"
   ]
  },
  {
   "cell_type": "code",
   "execution_count": 4,
   "metadata": {},
   "outputs": [
    {
     "name": "stdout",
     "output_type": "stream",
     "text": [
      "CSVファイルが output.csv に生成されました。\n"
     ]
    }
   ],
   "source": [
    "import os\n",
    "import csv\n",
    "\n",
    "def generate_csv(root_folder, output_csv):\n",
    "    # CSVファイルの書き込み準備\n",
    "    with open(output_csv, mode='w', newline='', encoding='utf-8') as file:\n",
    "        writer = csv.writer(file)\n",
    "        # 各フォルダーとその中のファイルを取得してCSVに書き込む\n",
    "        for folder_name in os.listdir(root_folder):\n",
    "            folder_path = os.path.join(root_folder, folder_name)\n",
    "            \n",
    "            if os.path.isdir(folder_path):\n",
    "                for file_name in os.listdir(folder_path):\n",
    "                    # フォルダー名とファイル名をCSVに書き込む\n",
    "                    writer.writerow([folder_name, file_name])\n",
    "\n",
    "# ルートフォルダーと出力CSVファイルのパスを指定\n",
    "root_folder = r'C:\\\\Users\\\\yanke\\\\ProjectsWin\\\\tools-todo\\\\python\\\\example'\n",
    "output_csv = 'output.csv'\n",
    "generate_csv(root_folder, output_csv)\n",
    "\n",
    "print(f\"CSVファイルが {output_csv} に生成されました。\")\n"
   ]
  }
 ],
 "metadata": {
  "kernelspec": {
   "display_name": ".venv",
   "language": "python",
   "name": "python3"
  },
  "language_info": {
   "codemirror_mode": {
    "name": "ipython",
    "version": 3
   },
   "file_extension": ".py",
   "mimetype": "text/x-python",
   "name": "python",
   "nbconvert_exporter": "python",
   "pygments_lexer": "ipython3",
   "version": "3.12.6"
  }
 },
 "nbformat": 4,
 "nbformat_minor": 2
}
